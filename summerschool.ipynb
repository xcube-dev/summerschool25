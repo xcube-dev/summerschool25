{
 "cells": [
  {
   "cell_type": "markdown",
   "id": "2639ebb1-c4e8-4346-94a5-faeb1446cce7",
   "metadata": {},
   "source": [
    "# Application Packages in the xcube ecosystem\n",
    "### EO Summer School 2025"
   ]
  },
  {
   "cell_type": "markdown",
   "id": "5f9d51e0-a397-47f2-8b2b-e4d3501273c4",
   "metadata": {},
   "source": [
    "Welcome to the Summer School 2025 course on xcube and Application Packages! This notebook will guide you through the hands-on exercises in the course."
   ]
  },
  {
   "cell_type": "markdown",
   "id": "bc737f60-df03-4213-8560-61e79d9fae96",
   "metadata": {},
   "source": [
    "## Requirements"
   ]
  },
  {
   "cell_type": "markdown",
   "id": "0727395f-987f-4ccd-935c-c4e9c62cc2b5",
   "metadata": {},
   "source": [
    "Before you start, look at the requirements list at <https://xcube-dev.github.io/summerschool25/> and make sure that you have the necessary software installed. Open a terminal emulator (either within this JupyterLab or on your desktop) and navigate to the directory containing this notebook."
   ]
  },
  {
   "cell_type": "markdown",
   "id": "29e6e156-7544-45d4-8001-218fe645e5ee",
   "metadata": {},
   "source": [
    "## 1. Writing a simple application package"
   ]
  },
  {
   "cell_type": "markdown",
   "id": "bd2b2877-e232-460d-90c3-98016c81f59b",
   "metadata": {},
   "source": [
    "### Introducing the CWL file"
   ]
  },
  {
   "cell_type": "markdown",
   "id": "cc7cf6e2-c752-455d-b51e-3fb4e4d433b7",
   "metadata": {},
   "source": [
    "In this part, we will look at, run, and modify a CWL file which defines a very simple Application Package. It takes no input parameters, and produces as output a single text file containing the text \"Hello world!\"."
   ]
  },
  {
   "cell_type": "markdown",
   "id": "86c54578-491d-44b1-9b2f-bcd95b650a57",
   "metadata": {},
   "source": [
    "Open the file [helloworld.cwl](hello-ap/helloworld.cwl) in this Jupyter Lab or in your favourite text editor. Make sure that you understand the parts: the `Workflow` and `CommandLineTool` sections, the files written into the container, and the command that gets executed in the container."
   ]
  },
  {
   "cell_type": "markdown",
   "id": "e34498a1-2cf6-436f-9c7f-204fbaec7117",
   "metadata": {},
   "source": [
    "### Running CWL with `cwltool`"
   ]
  },
  {
   "cell_type": "markdown",
   "id": "808e26a1-5a1a-46f9-90a0-af5f40537d8d",
   "metadata": {},
   "source": [
    "Now let's run it in the terminal. Make sure you have activated the `summerschool25` environment that you created earlier (`conda activate summerschool25`), and that your current directory is the repository directory containing this notebook."
   ]
  },
  {
   "cell_type": "markdown",
   "id": "c181573d-43a7-417d-be27-da4067d81bf6",
   "metadata": {},
   "source": [
    "```bash\n",
    "cwltool --outdir=hello1 hello-ap/helloworld.cwl#hello\n",
    "```"
   ]
  },
  {
   "cell_type": "markdown",
   "id": "57942a48-5fb6-478d-ade3-877d088f3a87",
   "metadata": {},
   "source": [
    "The outputs will appear in a subdirectory of the `hello1` directory that you specified as `--outdir`. Inside this directory you'll find:\n",
    "\n",
    "* `myscript.sh`, the one-line program that produced the output.\n",
    "* `hello.txt`, the output produced by the script.\n",
    "* `item.json`, a STAC item describing the output file.\n",
    "* `catalog.json`, a STAC catalogue listing the STAC item.\n",
    "\n",
    "`cwltool` doesn't care about the STAC data, but a real Application Package platform will use the STAC catalogue to find the output file and stage it out to the user or system that ran the Application Package."
   ]
  },
  {
   "cell_type": "markdown",
   "id": "72adb600-5093-45dd-8b4c-d156dc64de18",
   "metadata": {},
   "source": [
    "### Try some modifications and additions to the CWL"
   ]
  },
  {
   "cell_type": "markdown",
   "id": "86b89b01-c525-445a-8962-2ae95e6d59d4",
   "metadata": {},
   "source": [
    "You can try changing things in the CWL file (e.g. make the shell script write something else) to see the effects when running it. If you want to try a more interesting exercise, add an input parameter – for example, a name that can be inserted in the output text. The parameter has to be defined in four places:\n",
    "\n",
    "1: In the workflow, replace `inputs: {}` with\n",
    "```yaml\n",
    "    inputs:\n",
    "      name:\n",
    "        type: string\n",
    "        default: world\n",
    "```\n",
    "\n",
    "2: In the `run_script` subsection of the workflow, replace `in: {}` with\n",
    "```yaml\n",
    "        in:\n",
    "          name: name\n",
    "```\n",
    "This maps the workflow parameter `name` to the `CommandLineTool` parameter which is *also* called `name`.\n",
    "\n",
    "3: In `CommandLineTool`, replace `inputs: {}` with\n",
    "```yaml\n",
    "      name:\n",
    "        type: string\n",
    "        inputBinding:\n",
    "          position: 1\n",
    "```\n",
    "This tells the `CommandLineTool` to provide the `name` parameter as the first positional argument to the script.\n",
    "\n",
    "4: In the inline listing for `myscript.sh`, replace `\"Hello world!\"` with `\"Hello $1!\"`. This will insert the first positional argument to the script after `Hello`."
   ]
  },
  {
   "cell_type": "markdown",
   "id": "de2175cf-53bb-48d0-b788-7d6b639953b2",
   "metadata": {},
   "source": [
    "## 2. Turning a Jupyter notebook into an Application Package with `xcetool`"
   ]
  },
  {
   "cell_type": "markdown",
   "id": "f2e88ddf-7743-4697-b195-9d0f9c738afa",
   "metadata": {},
   "source": [
    "### Introducing the input notebook"
   ]
  },
  {
   "cell_type": "markdown",
   "id": "76265ebb-f04a-4b86-960f-698a83879965",
   "metadata": {},
   "source": [
    "In the subdirectory `xcengine-nb` of this repository, you will find:\n",
    "- A notebook called [dynamic.ipynb](xcengine-nb/dynamic.ipynb) which generates some artificial EO data and displays it in the notebook.\n",
    "- An `environment.yml` file defining the Python environment for the notebook."
   ]
  },
  {
   "cell_type": "markdown",
   "id": "83110c29-ff48-46f3-960c-db2f52d9c707",
   "metadata": {},
   "source": [
    "First, open the notebook here in Jupyter Lab, look through it, and try running it. The `summerschool25` Python environment already contains all the packages it needs, so you don't need to worry about setting up a special environment for the notebook."
   ]
  },
  {
   "cell_type": "markdown",
   "id": "55c6e57a-9de9-4f6d-ac7d-1c2b52f8acbf",
   "metadata": {},
   "source": [
    "### Turning the notebook into an Application Package"
   ]
  },
  {
   "cell_type": "markdown",
   "id": "25a80694-2a6b-4518-b951-8267929bf1ff",
   "metadata": {},
   "source": [
    "Next, we'll convert the notebook into an Application Package using the `xcetool` command-line utility from the `xcengine` package."
   ]
  },
  {
   "cell_type": "markdown",
   "id": "615bdd5b-832b-4d71-bdd7-e70b91ccd678",
   "metadata": {},
   "source": [
    "> ℹ️ Normally, you'd push the Docker image for an Application Package to a public registry like Docker Hub, so that it's available for a platform to run. To keep things simple and avoid a potentially slow upload process, we'll keep the image local in this course."
   ]
  },
  {
   "cell_type": "markdown",
   "id": "f6824dbb-d3d0-44c8-9b15-34e8a735de4a",
   "metadata": {},
   "source": [
    "### Adding another parameter"
   ]
  },
  {
   "cell_type": "code",
   "execution_count": null,
   "id": "085fc97c-7cbf-428c-a562-9f5f9cafee5b",
   "metadata": {},
   "outputs": [],
   "source": []
  }
 ],
 "metadata": {
  "kernelspec": {
   "display_name": "Python 3 (ipykernel)",
   "language": "python",
   "name": "python3"
  },
  "language_info": {
   "codemirror_mode": {
    "name": "ipython",
    "version": 3
   },
   "file_extension": ".py",
   "mimetype": "text/x-python",
   "name": "python",
   "nbconvert_exporter": "python",
   "pygments_lexer": "ipython3",
   "version": "3.13.5"
  }
 },
 "nbformat": 4,
 "nbformat_minor": 5
}
